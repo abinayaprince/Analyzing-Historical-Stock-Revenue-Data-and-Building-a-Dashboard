Question 1: Use yfinance to Extract Stock Data
Reset the index, save, and display the first five rows of the tesla_data dataframe using the head function. Upload a screenshot of the results and code from the beginning of Question 1 to the results below.

import yfinance as yf

# Create ticker object for Tesla
tesla = yf.Ticker("TSLA")

# Extract stock information and save in a dataframe
tesla_data = tesla.history(period="max")

# Reset index
tesla_data.reset_index(inplace=True)

# Display the first five rows
tesla_data.head()
